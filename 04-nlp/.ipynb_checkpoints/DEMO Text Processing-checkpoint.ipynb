{
 "cells": [
  {
   "cell_type": "code",
   "execution_count": 3,
   "id": "891322f4-a071-4f18-99ea-2b1781e61258",
   "metadata": {},
   "outputs": [],
   "source": [
    "%matplotlib inline"
   ]
  },
  {
   "cell_type": "code",
   "execution_count": 13,
   "id": "c935cb0c-dcd9-428e-a402-9a855624136c",
   "metadata": {},
   "outputs": [],
   "source": [
    "import numpy as np\n",
    "import pandas as pd\n",
    "import matplotlib.pyplot as plt\n",
    "\n",
    "import requests\n",
    "import collections\n",
    "import re\n",
    "import nltk\n",
    "\n"
   ]
  },
  {
   "cell_type": "markdown",
   "id": "ee94ba79-2f6e-4bb2-a32a-d0bfb4504163",
   "metadata": {
    "tags": []
   },
   "source": [
    "# Text preprocessing (recap)"
   ]
  },
  {
   "cell_type": "markdown",
   "id": "09826657-9fdc-4eec-9513-de16378feb33",
   "metadata": {
    "tags": []
   },
   "source": [
    "## Load \"Winnie-the-Pooh\""
   ]
  },
  {
   "cell_type": "code",
   "execution_count": 4,
   "id": "63358822-6d36-4479-8453-fc245d9e8bff",
   "metadata": {},
   "outputs": [],
   "source": [
    "response = requests.get('https://www.gutenberg.org/cache/epub/67098/pg67098.txt')\n",
    "pooh_raw = response.text"
   ]
  },
  {
   "cell_type": "code",
   "execution_count": 5,
   "id": "47ecfc75-e88b-4b07-88d4-eef845f09130",
   "metadata": {},
   "outputs": [],
   "source": [
    "starting_index = pooh_raw.index('Here is Edward Bear, coming downstairs now')\n",
    "pooh_text = pooh_raw[starting_index:]"
   ]
  },
  {
   "cell_type": "code",
   "execution_count": 10,
   "id": "4e57e877-3870-4c16-8b14-a390d4b2da01",
   "metadata": {},
   "outputs": [
    {
     "name": "stdout",
     "output_type": "stream",
     "text": [
      "Here is Edward Bear, coming downstairs now, bump, bump, bump, on the\n",
      "back of his head, behind Christopher Robin. It is, as far as he knows,\n",
      "the only way of coming downstairs, but sometimes he feels that there\n",
      "really is another way, if only he could stop bumping for a moment and\n",
      "think of it. And then he feels that perhaps there isn't. Anyhow, here he\n",
      "is at the bottom, and ready to be introduced to you. Winnie-the-Pooh.\n",
      "\n",
      "When I first heard his name, I said, just as you are going to say, \"But\n",
      "I thought he was a boy?\"\n",
      "\n",
      "\"So did I,\" said Christopher Robin.\n",
      "\n",
      "\"Then you can't call him Winni\n"
     ]
    }
   ],
   "source": [
    "print(pooh_text[:600])"
   ]
  },
  {
   "cell_type": "markdown",
   "id": "6e0db6af-0284-4be4-ab2e-0d80036bc097",
   "metadata": {},
   "source": [
    "## Most frequent chars"
   ]
  },
  {
   "cell_type": "code",
   "execution_count": 11,
   "id": "49d008ce-c58b-42fa-a82e-aa78c4feff18",
   "metadata": {},
   "outputs": [],
   "source": [
    "counter_characters = collections.Counter(pooh_text)"
   ]
  },
  {
   "cell_type": "code",
   "execution_count": 12,
   "id": "2a41a3ca-6d09-42b4-b076-8c838f09c58a",
   "metadata": {},
   "outputs": [
    {
     "data": {
      "text/plain": [
       "[(' ', 24539),\n",
       " ('e', 11107),\n",
       " ('t', 9216),\n",
       " ('o', 8936),\n",
       " ('a', 7831),\n",
       " ('i', 6912),\n",
       " ('n', 6684),\n",
       " ('h', 6483),\n",
       " ('s', 5649),\n",
       " ('r', 4853)]"
      ]
     },
     "execution_count": 12,
     "metadata": {},
     "output_type": "execute_result"
    }
   ],
   "source": [
    "counter_characters.most_common(10)"
   ]
  },
  {
   "cell_type": "markdown",
   "id": "ebc42810-a2a0-4b1d-838c-5e75077a8da2",
   "metadata": {},
   "source": [
    "## Most frequent words"
   ]
  },
  {
   "cell_type": "code",
   "execution_count": 52,
   "id": "89ce6e9b-7fd4-422f-85ad-be475762cc7c",
   "metadata": {},
   "outputs": [],
   "source": [
    "pooh_words = re.split(pattern='\\W', string=pooh_text)"
   ]
  },
  {
   "cell_type": "code",
   "execution_count": 53,
   "id": "9b2407a6-3834-4367-841c-897d7607640f",
   "metadata": {},
   "outputs": [],
   "source": [
    "counter_words = collections.Counter(pooh_words)"
   ]
  },
  {
   "cell_type": "code",
   "execution_count": 59,
   "id": "9b307fbd-82b0-4d70-9bb1-1e0dd8bbc34c",
   "metadata": {},
   "outputs": [
    {
     "data": {
      "text/plain": [
       "[('', 14793),\n",
       " ('and', 882),\n",
       " ('the', 853),\n",
       " ('to', 613),\n",
       " ('he', 572),\n",
       " ('a', 568),\n",
       " ('said', 553),\n",
       " ('it', 505),\n",
       " ('of', 487),\n",
       " ('I', 468)]"
      ]
     },
     "execution_count": 59,
     "metadata": {},
     "output_type": "execute_result"
    }
   ],
   "source": [
    "counter_words.most_common(n=10)"
   ]
  },
  {
   "cell_type": "markdown",
   "id": "47a21523-1141-465d-bba0-bc16f0a0206e",
   "metadata": {},
   "source": [
    "## Remove common words"
   ]
  },
  {
   "cell_type": "code",
   "execution_count": 66,
   "id": "70b3b7c1-cd94-4947-92b4-9d726bc54aff",
   "metadata": {},
   "outputs": [],
   "source": [
    "stopwords = nltk.corpus.stopwords.words(fileids=['english',])"
   ]
  },
  {
   "cell_type": "code",
   "execution_count": 93,
   "id": "2f658466-6a03-4969-a4c1-6d3f09ee5d03",
   "metadata": {},
   "outputs": [],
   "source": [
    "counter_words_nostop = {\n",
    "    word: counter_words[word]\n",
    "    for word, count in counter_words.items()\n",
    "    if word not in stopwords\n",
    "}\n",
    "\n",
    "counter_words_nostop = collections.Counter(counter_words_nostop)"
   ]
  },
  {
   "cell_type": "code",
   "execution_count": 94,
   "id": "37743514-7098-4fcc-b687-47aa7fe987aa",
   "metadata": {},
   "outputs": [
    {
     "data": {
      "text/plain": [
       "(2905, 2765)"
      ]
     },
     "execution_count": 94,
     "metadata": {},
     "output_type": "execute_result"
    }
   ],
   "source": [
    "len(counter_words), len(counter_words_nostop)"
   ]
  },
  {
   "cell_type": "code",
   "execution_count": 95,
   "id": "955e6e24-ebdd-4595-afaf-c3ddaab0dabe",
   "metadata": {},
   "outputs": [
    {
     "data": {
      "text/plain": [
       "[('', 14793),\n",
       " ('said', 553),\n",
       " ('I', 468),\n",
       " ('Pooh', 409),\n",
       " ('Piglet', 211),\n",
       " ('Robin', 156),\n",
       " ('Christopher', 154),\n",
       " ('And', 139),\n",
       " ('Eeyore', 117),\n",
       " ('Rabbit', 112)]"
      ]
     },
     "execution_count": 95,
     "metadata": {},
     "output_type": "execute_result"
    }
   ],
   "source": [
    "counter_words_nostop.most_common(10)"
   ]
  }
 ],
 "metadata": {
  "kernelspec": {
   "display_name": "Python 3 (ipykernel)",
   "language": "python",
   "name": "python3"
  },
  "language_info": {
   "codemirror_mode": {
    "name": "ipython",
    "version": 3
   },
   "file_extension": ".py",
   "mimetype": "text/x-python",
   "name": "python",
   "nbconvert_exporter": "python",
   "pygments_lexer": "ipython3",
   "version": "3.11.9"
  }
 },
 "nbformat": 4,
 "nbformat_minor": 5
}
